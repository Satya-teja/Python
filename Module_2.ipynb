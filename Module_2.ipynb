{
  "nbformat": 4,
  "nbformat_minor": 0,
  "metadata": {
    "colab": {
      "name": "Module 2.ipynb",
      "provenance": [],
      "collapsed_sections": [],
      "include_colab_link": true
    },
    "kernelspec": {
      "name": "python3",
      "display_name": "Python 3"
    },
    "language_info": {
      "name": "python"
    }
  },
  "cells": [
    {
      "cell_type": "markdown",
      "metadata": {
        "id": "view-in-github",
        "colab_type": "text"
      },
      "source": [
        "<a href=\"https://colab.research.google.com/github/Satya-teja/Python/blob/main/Module_2.ipynb\" target=\"_parent\"><img src=\"https://colab.research.google.com/assets/colab-badge.svg\" alt=\"Open In Colab\"/></a>"
      ]
    },
    {
      "cell_type": "code",
      "execution_count": null,
      "metadata": {
        "id": "5M1px4GXOejd",
        "colab": {
          "base_uri": "https://localhost:8080/"
        },
        "outputId": "bb62a02d-9146-41d1-d30d-bf1be47feb7b"
      },
      "outputs": [
        {
          "output_type": "stream",
          "name": "stdout",
          "text": [
            "Enter no. of tuples6\n",
            "Enter:(5,6,7)\n",
            "Enter:(1,2)\n",
            "Enter:(5,)\n",
            "Enter:(6,7,8)\n",
            "Enter:(9,1,2)\n",
            "Enter:(3,)\n",
            "Enter K:3\n",
            "[(1, 2), (5,), (3,)]\n"
          ]
        }
      ],
      "source": [
        "#Given list of tuples, remove all the tuples with length K. \n",
        "a=int(input(\"Enter no. of tuples\"))\n",
        "c=[]\n",
        "for i in range(a):\n",
        "  b=eval(input(\"Enter:\"))\n",
        "  c.append(b)\n",
        "d=int(input(\"Enter K:\"))\n",
        "for i in range(len(c)-1,-1,-1):\n",
        "  if len(c[i])==d:\n",
        "    c.remove(c[i])\n",
        "print(c)"
      ]
    },
    {
      "cell_type": "code",
      "source": [
        "#Program for replacing one substring by another \n",
        "a=input(\"Enter a string:\")\n",
        "b=input(\"Enter the substring to replace:\")\n",
        "f=input(\"enter substring to replace with:\")\n",
        "c=len(b)\n",
        "d=0\n",
        "e=\"\"\n",
        "for i in range(len(a)-c+1):\n",
        "  \n",
        "  if(a[i:i+c]==b):\n",
        "    e=e+a[d:i]\n",
        "    d=i+len(b)\n",
        "    e=e+f\n",
        "e=e+a[d:len(a)+1]\n",
        "if(len(e)==0):\n",
        "  print(a)\n",
        "else:\n",
        "  print(e)"
      ],
      "metadata": {
        "id": "dA6xOvCHLCAz",
        "outputId": "7bf0a3f7-675e-4c95-8605-b6ac36938289",
        "colab": {
          "base_uri": "https://localhost:8080/"
        }
      },
      "execution_count": 9,
      "outputs": [
        {
          "output_type": "stream",
          "name": "stdout",
          "text": [
            "Enter a string:rabbit\n",
            "Enter the substring to replace:bb\n",
            "enter substring to replace with:cc\n",
            "raccit\n"
          ]
        }
      ]
    },
    {
      "cell_type": "code",
      "source": [
        "#Program to Acronym generator for any user input\n",
        "a=input(\"Enter your string:\")\n",
        "b=\"\"\n",
        "for i in range(len(a)):\n",
        "  if i==0:\n",
        "    b=b+a[i].upper()\n",
        "    continue\n",
        "  if a[i]==' ':\n",
        "    b=b+a[i+1].upper()\n",
        "print(b)"
      ],
      "metadata": {
        "id": "rfjgdAWhPKJT",
        "outputId": "710d37db-a98b-4b5d-aa5b-14eb5927cf8f",
        "colab": {
          "base_uri": "https://localhost:8080/"
        }
      },
      "execution_count": 13,
      "outputs": [
        {
          "output_type": "stream",
          "name": "stdout",
          "text": [
            "Enter your string:Random Access Memory\n",
            "RAM\n"
          ]
        }
      ]
    },
    {
      "cell_type": "code",
      "source": [
        "#x Python function that accepts a string and calculates the number of uppercase letters and lowercase letters.\n",
        "a=input(\"Enter a string:\")\n",
        "u,l=0,0\n",
        "for i in a:\n",
        "  if i.isupper():\n",
        "    u+=1\n",
        "  elif i.islower():\n",
        "    l+=1\n",
        "print(\"Lower: {}, Upper: {}\".format(l,u))"
      ],
      "metadata": {
        "id": "HNinMpCaQ7qT",
        "outputId": "3f0454a2-6848-4929-811b-a76da4f35f7e",
        "colab": {
          "base_uri": "https://localhost:8080/"
        }
      },
      "execution_count": 19,
      "outputs": [
        {
          "output_type": "stream",
          "name": "stdout",
          "text": [
            "Enter a string:HowdY dO\n",
            "Lower: 4, Upper: 3\n"
          ]
        }
      ]
    },
    {
      "cell_type": "code",
      "source": [
        "#Program to count the number of strings where the string length is 2 or more and the first and last character are same from a given list of strings \n",
        "a=eval(input(\"Enter a list of strings:\"))\n",
        "b=0\n",
        "for i in a:\n",
        "  if len(i)>2 and i[0]==i[len(i)-1]:\n",
        "    b+=1\n",
        "print(b)"
      ],
      "metadata": {
        "id": "5ErD6W6zSSeT",
        "outputId": "99943429-d627-4a84-f253-40c374317525",
        "colab": {
          "base_uri": "https://localhost:8080/"
        }
      },
      "execution_count": 22,
      "outputs": [
        {
          "output_type": "stream",
          "name": "stdout",
          "text": [
            "Enter a list of strings:[\"aaaa\",\"1231\",\"aaaA\"]\n",
            "2\n"
          ]
        }
      ]
    },
    {
      "cell_type": "code",
      "source": [
        "#Recursive function to compute GCD of 2 numbers\n",
        "def GCD(x,y):\n",
        "    r=x%y\n",
        "    if(r==0):\n",
        "        return y\n",
        "    else:\n",
        "        return GCD(y,r)\n",
        "n= int(input(\"Enter the first number :\"))\n",
        "m= int(input(\"Enter the second number :\"))\n",
        "print(\"The GCD of two numbers is:\", GCD(n,m))"
      ],
      "metadata": {
        "colab": {
          "base_uri": "https://localhost:8080/"
        },
        "id": "nR9SsDpWyj8k",
        "outputId": "a127276d-7043-4543-fa7b-3538e8ad569e"
      },
      "execution_count": null,
      "outputs": [
        {
          "output_type": "stream",
          "name": "stdout",
          "text": [
            "Enter the first number :66\n",
            "Enter the second number :42\n",
            "The GCD of two numbers is: 6\n"
          ]
        }
      ]
    },
    {
      "cell_type": "code",
      "source": [
        "#Recursive function to find product of two numbers\n",
        "def mult(a,b):\n",
        "  return a*b\n",
        "n= int(input(\"Enter the first number :\"))\n",
        "m= int(input(\"Enter the second number :\"))\n",
        "print(\"The product of two numbers is:\", mult2(n,m))"
      ],
      "metadata": {
        "colab": {
          "base_uri": "https://localhost:8080/"
        },
        "id": "I2BMqMPYy_R1",
        "outputId": "c0d028d8-b634-43a9-ac64-59e87f283d04"
      },
      "execution_count": null,
      "outputs": [
        {
          "output_type": "stream",
          "name": "stdout",
          "text": [
            "Enter the first number :12\n",
            "Enter the second number :15\n",
            "The product of two numbers is: 180\n"
          ]
        }
      ]
    },
    {
      "cell_type": "code",
      "source": [
        ""
      ],
      "metadata": {
        "id": "Yr2J4jkuzlLG"
      },
      "execution_count": null,
      "outputs": []
    },
    {
      "cell_type": "code",
      "source": [
        "#x Recursive function to generate Fibonacci series\n",
        "def fib(a):\n",
        "   if a<= 1:\n",
        "       return a\n",
        "   else:\n",
        "       return(fib(a-1) + fib(a-2))\n",
        "a=int(input(\"enter until where you want the series\"))\n",
        "for i in range(a):\n",
        "  print(fib(i))"
      ],
      "metadata": {
        "colab": {
          "base_uri": "https://localhost:8080/"
        },
        "id": "GYKMnliUzWMt",
        "outputId": "fd6bb407-8b34-4565-a958-0845a2afb622"
      },
      "execution_count": null,
      "outputs": [
        {
          "output_type": "stream",
          "name": "stdout",
          "text": [
            "enter until where you want the series20\n",
            "0\n",
            "1\n",
            "1\n",
            "2\n",
            "3\n",
            "5\n",
            "8\n",
            "13\n",
            "21\n",
            "34\n",
            "55\n",
            "89\n",
            "144\n",
            "233\n",
            "377\n",
            "610\n",
            "987\n",
            "1597\n",
            "2584\n",
            "4181\n"
          ]
        }
      ]
    },
    {
      "cell_type": "code",
      "source": [
        "#Program to print a specified list after removing the 0th, 4th and 5th elements.\n",
        "a=eval(input(\"enter list:\"))\n",
        "b=[]\n",
        "for i in range(len(a)):\n",
        "  if i==0 or i==4 or i==5:\n",
        "    pass\n",
        "  else:\n",
        "    b.append(a[i])\n",
        "a=b\n",
        "print(a)"
      ],
      "metadata": {
        "colab": {
          "base_uri": "https://localhost:8080/"
        },
        "id": "_MLMd4sC1rlm",
        "outputId": "190cacce-76d0-44a6-d0da-63ae3fbca583"
      },
      "execution_count": null,
      "outputs": [
        {
          "output_type": "stream",
          "name": "stdout",
          "text": [
            "enter list:[1,2,3,4,5,6]\n",
            "[2, 3, 4]\n"
          ]
        }
      ]
    },
    {
      "cell_type": "code",
      "source": [
        "#Program to find the second smallest number and second largest number in a list.\n",
        "a=eval(input(\"Enter a list:\"))\n",
        "for i in range(2):\n",
        "  min=a[0]\n",
        "  for j in a:\n",
        "    if j<min:\n",
        "      min=j\n",
        "  if i==0:\n",
        "    a.remove(min)\n",
        "for i in range(2):\n",
        "  max=a[0]\n",
        "  for j in a:\n",
        "    if j>max:\n",
        "      max=j\n",
        "  if i==0:\n",
        "    a.remove(max)\n",
        "print(min,max)"
      ],
      "metadata": {
        "colab": {
          "base_uri": "https://localhost:8080/"
        },
        "id": "kXgOYzzY3m5G",
        "outputId": "a513c30d-2935-4c76-9246-61316ac249ee"
      },
      "execution_count": null,
      "outputs": [
        {
          "output_type": "stream",
          "name": "stdout",
          "text": [
            "Enter a list:[0,1,2,3,4,5,6,7,8,9]\n",
            "1 8\n"
          ]
        }
      ]
    },
    {
      "cell_type": "code",
      "source": [
        "#x Given a list of numbers of list, write a Python program to create a list of tuples having first element as the number and second element as the square of the number\n",
        "a=eval(input(\"Enter a list of numbers:\"))\n",
        "b=[]\n",
        "for i in a:\n",
        "  c=(i,i*i)\n",
        "  b.append(c)\n",
        "print(b)"
      ],
      "metadata": {
        "colab": {
          "base_uri": "https://localhost:8080/"
        },
        "id": "l3I0g26Q40z2",
        "outputId": "7035d39c-f43d-424d-e9ea-f9c3bcf50170"
      },
      "execution_count": null,
      "outputs": [
        {
          "output_type": "stream",
          "name": "stdout",
          "text": [
            "Enter a list of numbers:[1,2,3,4,5,6,7]\n",
            "[(1, 1), (2, 4), (3, 9), (4, 16), (5, 25), (6, 36), (7, 49)]\n"
          ]
        }
      ]
    },
    {
      "cell_type": "code",
      "source": [
        "#Program to generate and print a dictionary that contains a number (between 1 and n) in the form (x, x*x)\n",
        "a={}\n",
        "b=eval(input(\"Enter list of numbers:\"))\n",
        "for i in b:\n",
        "  a[i]=i*i\n",
        "print(a)"
      ],
      "metadata": {
        "colab": {
          "base_uri": "https://localhost:8080/"
        },
        "id": "-Cs-9z8w5fZO",
        "outputId": "d563a0b3-77d0-4017-9507-0a4575e3eea8"
      },
      "execution_count": null,
      "outputs": [
        {
          "output_type": "stream",
          "name": "stdout",
          "text": [
            "Enter list of numbers:[1,2,3,4,5,6]\n",
            "{1: 1, 2: 4, 3: 9, 4: 16, 5: 25, 6: 36}\n"
          ]
        }
      ]
    },
    {
      "cell_type": "code",
      "source": [
        "#Program to remove a key from a dictionary\n",
        "a=eval(input(\"Enter dictionary:\"))\n",
        "b=input(\"Enter key to remove:\")\n",
        "del a[b]\n",
        "print(a)"
      ],
      "metadata": {
        "colab": {
          "base_uri": "https://localhost:8080/"
        },
        "id": "pmd0diIH6J93",
        "outputId": "a3ac0766-9c5a-4a77-d247-88590f15b03f"
      },
      "execution_count": null,
      "outputs": [
        {
          "output_type": "stream",
          "name": "stdout",
          "text": [
            "Enter dictionary:{\"hi\":1,\"bye\":2,\"bruh\":3}\n",
            "Enter key to remove:hi\n",
            "{'bye': 2, 'bruh': 3}\n"
          ]
        }
      ]
    },
    {
      "cell_type": "code",
      "source": [
        "#Program to get the maximum and minimum value in a dictionary.\n",
        "a=eval(input(\"Enter a dictionary:\"))\n",
        "b=[]\n",
        "\n",
        "\n",
        "\n",
        "for i in a:\n",
        "  b.append(i)\n",
        "max,min=a[b[0]],a[b[0]]\n",
        "for i in b:\n",
        "  if max<a[i]:\n",
        "    max=a[i]\n",
        "for i in b:\n",
        "  if min>a[i]:\n",
        "    min=a[i]\n",
        "print(max,min)\n"
      ],
      "metadata": {
        "colab": {
          "base_uri": "https://localhost:8080/"
        },
        "id": "ISKyxlHt7xZe",
        "outputId": "cdad9b21-4247-425f-dfd5-c3e82a2ed449"
      },
      "execution_count": null,
      "outputs": [
        {
          "output_type": "stream",
          "name": "stdout",
          "text": [
            "Enter a dictionary:{1:12,2:14,3:10,4:5}\n",
            "14 5\n"
          ]
        }
      ]
    },
    {
      "cell_type": "code",
      "source": [
        "#Program for Counting occurrence of a certain element in a string, getting indexes that have matching elements.\n",
        "a=input(\"Enter a string:\")\n",
        "b=input(\"Enter the substring:\")\n",
        "c=len(b)\n",
        "d=0\n",
        "for i in range(len(a)-c+1):\n",
        "  #print(a[i:i+c])\n",
        "  if(a[i:i+c]==b):\n",
        "    d+=1\n",
        "print(d)"
      ],
      "metadata": {
        "colab": {
          "base_uri": "https://localhost:8080/"
        },
        "id": "hvxuWFDNBFkW",
        "outputId": "b17ddda3-746f-4b1a-a172-8e1b02244cde"
      },
      "execution_count": null,
      "outputs": [
        {
          "output_type": "stream",
          "name": "stdout",
          "text": [
            "Enter a string:I have to go to a doctor and get myself checked\n",
            "Enter the substring:to\n",
            "3\n"
          ]
        }
      ]
    },
    {
      "cell_type": "code",
      "source": [
        ""
      ],
      "metadata": {
        "id": "rumOQQ3Uv_AH"
      },
      "execution_count": null,
      "outputs": []
    },
    {
      "cell_type": "code",
      "source": [
        "a=int(input(\"Enter your angle:\"))\n",
        "b=int(input(\"Enter your angle:\"))\n",
        "c=int(input(\"Enter your angle:\"))\n",
        "if a==b==c:\n",
        "    print(\"Your triangle is Eqilatral\")\n",
        "elif a==b or b==c or c==a:\n",
        "    print(\"Your triangle is isociles\")\n",
        "else:\n",
        "  print(\"scalene\")\n"
      ],
      "metadata": {
        "colab": {
          "base_uri": "https://localhost:8080/"
        },
        "id": "ou9fliMXOhoa",
        "outputId": "d3fe10dd-4fd5-4c5b-cd71-ca8e8b643b56"
      },
      "execution_count": null,
      "outputs": [
        {
          "output_type": "stream",
          "name": "stdout",
          "text": [
            "Enter your angle:10\n",
            "Enter your angle:10\n",
            "Enter your angle:20\n",
            "Your triangle is isociles\n"
          ]
        }
      ]
    },
    {
      "cell_type": "code",
      "source": [
        "## Check whether entered year is a leap year or not\n"
      ],
      "metadata": {
        "id": "6no9FSnFTUaP"
      },
      "execution_count": null,
      "outputs": []
    },
    {
      "cell_type": "code",
      "source": [
        "a=int(input(\"Enter your year: \"))\n",
        "if a%4==0:\n",
        "  print(\"Leep year\")\n",
        "else:\n",
        "  print(\"Not a leap year\")\n"
      ],
      "metadata": {
        "colab": {
          "base_uri": "https://localhost:8080/"
        },
        "id": "kc5A5y2mTuXY",
        "outputId": "17cb8308-1011-4202-d604-9f8f92fb2056"
      },
      "execution_count": null,
      "outputs": [
        {
          "output_type": "stream",
          "name": "stdout",
          "text": [
            "Enter your year: 2020\n",
            "Leep year\n"
          ]
        }
      ]
    },
    {
      "cell_type": "code",
      "source": [
        "## Check whether number is a palindrome or not"
      ],
      "metadata": {
        "id": "37vXERrtUY_o"
      },
      "execution_count": null,
      "outputs": []
    },
    {
      "cell_type": "code",
      "source": [
        "n=int(input(\"Enter number:\"))\n",
        "temp=n\n",
        "rev=0\n",
        "while(n>0):\n",
        "    dig=n%10\n",
        "    rev=rev*10+dig\n",
        "    n=n//10\n",
        "if(temp==rev):\n",
        "    print(\"palindrome\")\n",
        "else:\n",
        "    print(\"Not palindrome\")"
      ],
      "metadata": {
        "colab": {
          "base_uri": "https://localhost:8080/"
        },
        "id": "k4u2gLuAVHl-",
        "outputId": "16b638e5-6dfc-4647-e1cd-34e24c79b359"
      },
      "execution_count": null,
      "outputs": [
        {
          "output_type": "stream",
          "name": "stdout",
          "text": [
            "Enter number:34\n",
            "Not palindrome\n"
          ]
        }
      ]
    },
    {
      "cell_type": "code",
      "source": [
        "## swapping of two numbers"
      ],
      "metadata": {
        "id": "bKXxBuEgVson"
      },
      "execution_count": null,
      "outputs": []
    },
    {
      "cell_type": "code",
      "source": [
        "x = 5\n",
        "y = 7\n",
        " \n",
        "print (\"Before swapping: \")\n",
        "print(\"Value of x : \", x, \" and y : \", y)\n",
        " \n",
        "\n",
        "x, y = y, x\n",
        " \n",
        "print (\"After swapping: \")\n",
        "print(\"Value of x : \", x, \" and y : \", y)"
      ],
      "metadata": {
        "id": "oGeolYYpVwRW"
      },
      "execution_count": null,
      "outputs": []
    }
  ]
}