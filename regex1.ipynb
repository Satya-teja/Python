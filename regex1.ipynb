{
  "nbformat": 4,
  "nbformat_minor": 0,
  "metadata": {
    "colab": {
      "name": "Untitled0.ipynb",
      "provenance": [],
      "authorship_tag": "ABX9TyNSEQb7B9S1ta3Q9Cpqw0t9",
      "include_colab_link": true
    },
    "kernelspec": {
      "name": "python3",
      "display_name": "Python 3"
    },
    "language_info": {
      "name": "python"
    }
  },
  "cells": [
    {
      "cell_type": "markdown",
      "metadata": {
        "id": "view-in-github",
        "colab_type": "text"
      },
      "source": [
        "<a href=\"https://colab.research.google.com/github/Satya-teja/Python/blob/main/regex1.ipynb\" target=\"_parent\"><img src=\"https://colab.research.google.com/assets/colab-badge.svg\" alt=\"Open In Colab\"/></a>"
      ]
    },
    {
      "cell_type": "code",
      "execution_count": 5,
      "metadata": {
        "colab": {
          "base_uri": "https://localhost:8080/"
        },
        "id": "M13yLBOuv6Jy",
        "outputId": "8db75747-e6f0-4685-99c4-6753a13cf2a3"
      },
      "outputs": [
        {
          "output_type": "stream",
          "name": "stdout",
          "text": [
            "nada\n"
          ]
        }
      ],
      "source": [
        "#Write a Python program to check that a string contains only a certain set of characters (in this +case a-z, A-Z and 0-9)\n",
        "ab=\"The word \\\"college\\\" is from the Latin verb lego, legere, legi, lectum, \\\"to collect, gather together, pick\\\", plus the preposition cum, \\\"with\\\",[4] thus meaning \\\"selected together\\\". Thus \\\"colleagues\\\" are literally \\\"persons who have been selected to work together\\\". In ancient Rome a collegium was a \\\"body, guild, corporation united in colleagueship; of magistrates, praetors, tribunes, priests, augurs; a political club or trade guild\\\".\"\n",
        "import re\n",
        "b=re.findall(\"[a-z]\",ab)\n",
        "c=ab.split()\n",
        "d=0\n",
        "for i in c:\n",
        "  d+=len(i)\n",
        "if len(b)==d:\n",
        "  print(\"String only contains letters from small case a-z\")\n",
        "else:\n",
        "  print(\"nada\")\n",
        "\n"
      ]
    },
    {
      "cell_type": "code",
      "source": [
        "#Write a Python program that matches a string that has an a followed by zero or more b's\n",
        "ab=\"The word \\\"college\\\" is from the Latin verb lego, legere, legi, lectum, \\\"to collect, gather together, pick\\\", abs plus abductions the abb preposition  abbbbo cum, \\\"with\\\",[4] thus meaning \\\"selected together\\\". Thus \\\"colleagues\\\" are literally \\\"persons who have been selected to work together\\\". In ancient Rome a collegium was a \\\"body, guild, corporation united in colleagueship; of magistrates, praetors, tribunes, priests, augurs; a political club or trade guild\\\".\"\n",
        "import re\n",
        "b=re.findall(\"ab*\",ab)\n",
        "print(b)\n",
        "\n"
      ],
      "metadata": {
        "colab": {
          "base_uri": "https://localhost:8080/"
        },
        "id": "68F0Ib-MyJmb",
        "outputId": "e96c9c5c-b6ae-4660-ef09-344c1abe1b6a"
      },
      "execution_count": 6,
      "outputs": [
        {
          "output_type": "stream",
          "name": "stdout",
          "text": [
            "['a', 'a', 'ab', 'ab', 'abbbb', 'a', 'a', 'a', 'a', 'a', 'a', 'a', 'a', 'a', 'a', 'a', 'a', 'a', 'a', 'a', 'a', 'a', 'a']\n"
          ]
        }
      ]
    },
    {
      "cell_type": "code",
      "source": [
        "#Write a Python program that matches a string that has an a followed by one or more b's\n",
        "ab=\"The word \\\"college\\\" is from the Latin verb lego, legere, legi, lectum, \\\"to collect, gather together, pick\\\", abs plus abductions the abb preposition  abbbbo cum, \\\"with\\\",[4] thus meaning \\\"selected together\\\". Thus \\\"colleagues\\\" are literally \\\"persons who have been selected to work together\\\". In ancient Rome a collegium was a \\\"body, guild, corporation united in colleagueship; of magistrates, praetors, tribunes, priests, augurs; a political club or trade guild\\\".\"\n",
        "import re\n",
        "b=re.findall(\"ab+\",ab)\n",
        "print(b)\n"
      ],
      "metadata": {
        "colab": {
          "base_uri": "https://localhost:8080/"
        },
        "id": "rLLAG2EDzApi",
        "outputId": "2be6a262-9999-472e-a9e3-d133d47e17f0"
      },
      "execution_count": 7,
      "outputs": [
        {
          "output_type": "stream",
          "name": "stdout",
          "text": [
            "['ab', 'ab', 'abb', 'abbbb']\n"
          ]
        }
      ]
    },
    {
      "cell_type": "code",
      "source": [
        "#Write a Python program that matches a string that has an a followed by zero or one 'b'\n",
        "ab=\"The word \\\"college\\\" is from the Latin verb lego, legere, legi, lectum, \\\"to collect, gather together, pick\\\", abs plus abductions the abb preposition  abbbbo cum, \\\"with\\\",[4] thus meaning \\\"selected together\\\". Thus \\\"colleagues\\\" are literally \\\"persons who have been selected to work together\\\". In ancient Rome a collegium was a \\\"body, guild, corporation united in colleagueship; of magistrates, praetors, tribunes, priests, augurs; a political club or trade guild\\\".\"\n",
        "import re\n",
        "b=re.findall(\"ab?\",ab)\n",
        "print(b)"
      ],
      "metadata": {
        "colab": {
          "base_uri": "https://localhost:8080/"
        },
        "id": "rzW3wSdCzAuD",
        "outputId": "809eebab-3c2b-40c3-a2f1-10a10e116572"
      },
      "execution_count": 8,
      "outputs": [
        {
          "output_type": "stream",
          "name": "stdout",
          "text": [
            "['a', 'a', 'ab', 'ab', 'ab', 'ab', 'a', 'a', 'a', 'a', 'a', 'a', 'a', 'a', 'a', 'a', 'a', 'a', 'a', 'a', 'a', 'a', 'a', 'a']\n"
          ]
        }
      ]
    },
    {
      "cell_type": "code",
      "source": [
        "#Write a Python program that matches a string that has an a followed by three 'b'\n",
        "ab=\"The word \\\"college\\\" is from the Latin verb lego, legere, legi, lectum, \\\"to collect, gather together, pick\\\", abs plus abductions the abb preposition  abbbbo cum, \\\"with\\\",[4] thus meaning \\\"selected together\\\". Thus \\\"colleagues\\\" are literally \\\"persons who have been selected to work together\\\". In ancient Rome a collegium was a \\\"body, guild, corporation united in colleagueship; of magistrates, praetors, tribunes, priests, augurs; a political club or trade guild\\\".\"\n",
        "import re\n",
        "b=re.findall(\"ab{3}\",ab)\n",
        "print(b)"
      ],
      "metadata": {
        "colab": {
          "base_uri": "https://localhost:8080/"
        },
        "id": "pCM2duYT0Bmz",
        "outputId": "6c789a63-cc43-4537-800c-93530d8a45d0"
      },
      "execution_count": 9,
      "outputs": [
        {
          "output_type": "stream",
          "name": "stdout",
          "text": [
            "['abbb']\n"
          ]
        }
      ]
    },
    {
      "cell_type": "code",
      "source": [
        "#Write a Python program to find sequences of lowercase letters joined with an underscore\n",
        "ab=\"The word \\\"college\\\" is from the Latin verb lego, legere, legi, lectum, \\\"to collect, gather together, pick\\\", abs plus abductions the abb preposition  abbbbo cum, \\\"with\\\",[4] thus meaning \\\"selected together\\\". Thus \\\"colleagues\\\" are literally \\\"persons who have been selected to work together\\\". In ancient Rome a collegium was a \\\"body, guild, corporation united in colleagueship; of magistrates, praetors, tribunes, priests, augurs; a political club or trade guild\\\".\"\n",
        "k=\"Hi! _How are you doing today? I am hope you're doing a_okay!\"\n",
        "import re\n",
        "b=re.findall(\"\\B_|\\b_\",ab)\n",
        "o=re.findall(\"[a-z]_*|^_[a-z]\",k)\n",
        "print(b)\n",
        "print(o)"
      ],
      "metadata": {
        "colab": {
          "base_uri": "https://localhost:8080/"
        },
        "id": "boZpSush0J45",
        "outputId": "05322423-aaec-4877-cdb0-d80be18b8d2f"
      },
      "execution_count": 14,
      "outputs": [
        {
          "output_type": "stream",
          "name": "stdout",
          "text": [
            "[]\n",
            "['i', 'o', 'w', 'a', 'r', 'e', 'y', 'o', 'u', 'd', 'o', 'i', 'n', 'g', 't', 'o', 'd', 'a', 'y', 'a', 'm', 'h', 'o', 'p', 'e', 'y', 'o', 'u', 'r', 'e', 'd', 'o', 'i', 'n', 'g', 'a_', 'o', 'k', 'a', 'y']\n"
          ]
        }
      ]
    },
    {
      "cell_type": "code",
      "source": [
        ""
      ],
      "metadata": {
        "id": "j-q79VQP4rHS"
      },
      "execution_count": null,
      "outputs": []
    }
  ]
}