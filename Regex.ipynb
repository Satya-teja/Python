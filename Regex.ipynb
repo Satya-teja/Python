{
  "nbformat": 4,
  "nbformat_minor": 0,
  "metadata": {
    "colab": {
      "name": "Regex.ipynb",
      "provenance": [],
      "authorship_tag": "ABX9TyNw6iQeTTPTX6/Jj16jVodJ",
      "include_colab_link": true
    },
    "kernelspec": {
      "name": "python3",
      "display_name": "Python 3"
    },
    "language_info": {
      "name": "python"
    }
  },
  "cells": [
    {
      "cell_type": "markdown",
      "metadata": {
        "id": "view-in-github",
        "colab_type": "text"
      },
      "source": [
        "<a href=\"https://colab.research.google.com/github/Satya-teja/Python/blob/main/Regex.ipynb\" target=\"_parent\"><img src=\"https://colab.research.google.com/assets/colab-badge.svg\" alt=\"Open In Colab\"/></a>"
      ]
    },
    {
      "cell_type": "code",
      "execution_count": 23,
      "metadata": {
        "colab": {
          "base_uri": "https://localhost:8080/"
        },
        "id": "-T9v5_f5Jf3m",
        "outputId": "a91358a8-b56a-4c74-aca5-7024e81599db"
      },
      "outputs": [
        {
          "output_type": "stream",
          "name": "stdout",
          "text": [
            "Match\n",
            "im\n"
          ]
        }
      ],
      "source": [
        "txt='hi im satya and what im doing is none of your bidness, but thanks for asking anyway'\n",
        "import re\n",
        "a=re.search(\"im\",txt)\n",
        "if a:\n",
        "  print(\"Match\")\n",
        "else:\n",
        "  print(\"Naw\")\n",
        "print(a.group())"
      ]
    },
    {
      "cell_type": "code",
      "source": [
        "txt='hi im satya and what im doing is none of your bidness, but thanks for asking anyway'\n",
        "import re\n",
        "a=re.search(\"sa....a\",txt)\n",
        "if a:\n",
        "  print(\"Match\")\n",
        "else:\n",
        "  print(\"Naw\")\n",
        "print(a.group())"
      ],
      "metadata": {
        "colab": {
          "base_uri": "https://localhost:8080/"
        },
        "id": "YHJ1bVh6Nr_4",
        "outputId": "b16bc9fe-d108-48c6-d3a0-80abbddf835a"
      },
      "execution_count": 25,
      "outputs": [
        {
          "output_type": "stream",
          "name": "stdout",
          "text": [
            "Match\n",
            "satya a\n"
          ]
        }
      ]
    },
    {
      "cell_type": "code",
      "source": [
        "txt='hi im satya and what im doing is none of your bidness, but thanks for asking anyway'\n",
        "import re\n",
        "a=re.search(\"im.*w\",txt)\n",
        "if a:\n",
        "  print(\"Match\")\n",
        "else:\n",
        "  print(\"Naw\")\n",
        "print(a.group())"
      ],
      "metadata": {
        "colab": {
          "base_uri": "https://localhost:8080/"
        },
        "id": "hYEoXWDMN_Fe",
        "outputId": "fb405e87-d458-46a0-eb9b-4d8d03419669"
      },
      "execution_count": 26,
      "outputs": [
        {
          "output_type": "stream",
          "name": "stdout",
          "text": [
            "Match\n",
            "im satya and what im doing is none of your bidness, but thanks for asking anyw\n"
          ]
        }
      ]
    },
    {
      "cell_type": "code",
      "source": [
        "txt='hi im satya and what im doing is none of your bidness, but thanks for asking anyway'\n",
        "import re\n",
        "#\\A sees if the following substring is at the start of the string or not\n",
        "a=re.search(\"\\Ahi\",txt)\n",
        "if a:\n",
        "  print(\"Match\")\n",
        "else:\n",
        "  print(\"Naw\")\n",
        "#print(a.group())"
      ],
      "metadata": {
        "colab": {
          "base_uri": "https://localhost:8080/"
        },
        "id": "HWVMdUyXOG6e",
        "outputId": "927343f5-af6a-42f7-8feb-b7528313d1b4"
      },
      "execution_count": 29,
      "outputs": [
        {
          "output_type": "stream",
          "name": "stdout",
          "text": [
            "Match\n"
          ]
        }
      ]
    },
    {
      "cell_type": "code",
      "source": [
        "txt='hi im satya and what im doing is none of your bidness, but thanks for asking anyway'\n",
        "import re\n",
        "#\\b sees if given substring is at the start or end of of any word. putting the r at the beginning is important]\n",
        "a=re.search(r\"\\bsa\",txt)\n",
        "if a:\n",
        "  print(\"Match\")\n",
        "else:\n",
        "  print(\"Naw\")\n",
        "#print(a.group())"
      ],
      "metadata": {
        "colab": {
          "base_uri": "https://localhost:8080/"
        },
        "id": "sv_t8qnSOVmP",
        "outputId": "2d0cd098-0304-4a5f-f6b8-8b4fe699f6e2"
      },
      "execution_count": 34,
      "outputs": [
        {
          "output_type": "stream",
          "name": "stdout",
          "text": [
            "Match\n"
          ]
        }
      ]
    },
    {
      "cell_type": "code",
      "source": [
        "txt='hi im satya and what im doing is none of your bidness, but thanks for asking anyway'\n",
        "import re\n",
        "#\\B sees if given substring is NOT at the start or end of of any word. putting the r at the beginning is important]\n",
        "a=re.search(r\"\\Bsat\",txt)\n",
        "b=re.search(r\"\\Baty\",txt)\n",
        "c=re.search(r\"\\Batya\",txt)\n",
        "if c:\n",
        "  print(\"Match\")\n",
        "else:\n",
        "  print(\"Naw\")\n",
        "if b:\n",
        "  print(\"Match\")\n",
        "else:\n",
        "  print(\"Naw\")\n",
        "if a:\n",
        "  print(\"Match\")\n",
        "else:\n",
        "  print(\"Naw\")\n",
        "#print(a.group())"
      ],
      "metadata": {
        "colab": {
          "base_uri": "https://localhost:8080/"
        },
        "id": "nRvZY05MO-KQ",
        "outputId": "e0fee38b-e251-454f-8e9d-fad249dacb45"
      },
      "execution_count": 41,
      "outputs": [
        {
          "output_type": "stream",
          "name": "stdout",
          "text": [
            "Match\n",
            "Match\n",
            "Naw\n"
          ]
        }
      ]
    },
    {
      "cell_type": "code",
      "source": [
        "txt='hi im satya and what im doing is none of your bidness, but thanks for asking anyway'\n",
        "txt1=\"I am 18+\"\n",
        "import re\n",
        "#\\d returns a match where the string only has the digits in it. putting the r at the beginning is important]\n",
        "a=re.search(r\"\\d\",txt)\n",
        "b=re.search(r\"\\d\",txt1)\n",
        "if b:\n",
        "  print(\"Match\")\n",
        "else:\n",
        "  print(\"Naw\")\n",
        "if a:\n",
        "  print(\"Match\")\n",
        "else:\n",
        "  print(\"Naw\")\n",
        "#print(a.group())"
      ],
      "metadata": {
        "colab": {
          "base_uri": "https://localhost:8080/"
        },
        "id": "eWCMF-eBPrxn",
        "outputId": "4b498628-2a05-40b7-ce6d-5c86567cad15"
      },
      "execution_count": 43,
      "outputs": [
        {
          "output_type": "stream",
          "name": "stdout",
          "text": [
            "Match\n",
            "Naw\n"
          ]
        }
      ]
    },
    {
      "cell_type": "code",
      "source": [
        "txt='Developing writers can often benefit from examining an essay, a paragraph, or even a sentence to determine what makes it effective. On the following pages are several paragraphs for you to evaluate on your own, along with the Writing Center\\'s explanation.'\n",
        "txt1=\"I am 18\"\n",
        "import re\n",
        "#\\D returns a match where the string only has characters and no digits in it. putting the r at the beginning is important]\n",
        "a=re.search(r\"\\D\",txt)\n",
        "b=re.search(r\"\\D\",txt1)\n",
        "c=re.findall(r\"\\D\",txt1)\n",
        "print(c)\n",
        "if b:\n",
        "  print(\"Match\")\n",
        "else:\n",
        "  print(\"Naw\")\n",
        "if a:\n",
        "  print(\"Match\")\n",
        "else:\n",
        "  print(\"Naw\")\n",
        "#print(a.group())"
      ],
      "metadata": {
        "colab": {
          "base_uri": "https://localhost:8080/"
        },
        "id": "bslBHFweQH_f",
        "outputId": "f1891662-d8c9-44a5-d780-b9e92d65c325"
      },
      "execution_count": 50,
      "outputs": [
        {
          "output_type": "stream",
          "name": "stdout",
          "text": [
            "['I', ' ', 'a', 'm', ' ']\n",
            "Match\n",
            "Match\n"
          ]
        }
      ]
    },
    {
      "cell_type": "code",
      "source": [
        "txt='Developing writers can often benefit from examining an essay, a paragraph, or even a sentence to determine what makes it effective. On the following pages are several paragraphs for you to evaluate on your own, along with the Writing Center\\'s explanation.'\n",
        "txt1=\"I am 18\"\n",
        "import re\n",
        "#\\s returns a match where the string only has space characters. putting the r at the beginning is important]\n",
        "a=re.findall(r\"\\D\",txt)\n",
        "b=re.search(r\"\\D\",txt1)\n",
        "c=re.findall(r\"\\D\",txt1)\n",
        "print(c)\n",
        "if b:\n",
        "  print(\"Match\")\n",
        "else:\n",
        "  print(\"Naw\")\n",
        "if a:\n",
        "  print(\"Match\")\n",
        "else:\n",
        "  print(\"Naw\")\n",
        "#print(a.group())"
      ],
      "metadata": {
        "id": "JXApO73QR4nN"
      },
      "execution_count": null,
      "outputs": []
    }
  ]
}