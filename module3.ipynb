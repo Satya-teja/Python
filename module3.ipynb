{
  "nbformat": 4,
  "nbformat_minor": 0,
  "metadata": {
    "colab": {
      "name": "module3.ipynb",
      "provenance": [],
      "include_colab_link": true
    },
    "kernelspec": {
      "name": "python3",
      "display_name": "Python 3"
    },
    "language_info": {
      "name": "python"
    }
  },
  "cells": [
    {
      "cell_type": "markdown",
      "metadata": {
        "id": "view-in-github",
        "colab_type": "text"
      },
      "source": [
        "<a href=\"https://colab.research.google.com/github/Satya-teja/Python/blob/main/module3.ipynb\" target=\"_parent\"><img src=\"https://colab.research.google.com/assets/colab-badge.svg\" alt=\"Open In Colab\"/></a>"
      ]
    },
    {
      "cell_type": "code",
      "execution_count": null,
      "metadata": {
        "colab": {
          "base_uri": "https://localhost:8080/"
        },
        "id": "CgBwSHkchw1C",
        "outputId": "a863eacb-61c7-425e-8b8c-534238aeadb0"
      },
      "outputs": [
        {
          "output_type": "stream",
          "name": "stdout",
          "text": [
            "hi there\n",
            "\n",
            "how are you doing?\n",
            "\n",
            "Im doing okay\n",
            "\n",
            "thanks for asking\n",
            "\n",
            "Bye\n"
          ]
        }
      ],
      "source": [
        "#read an entire text file.\n",
        "f=open(\"hi.txt\",'r')\n",
        "for i in f:\n",
        "  print(i)"
      ]
    },
    {
      "cell_type": "code",
      "source": [
        "#read the first n lines of a file. \n",
        "f=open(\"hi.txt\")\n",
        "n=int(input(\"\"))\n",
        "a=f.readlines()\n",
        "for i in range(n):\n",
        "  print(a[i])"
      ],
      "metadata": {
        "colab": {
          "base_uri": "https://localhost:8080/"
        },
        "id": "bG-SQpHqj9Wk",
        "outputId": "2ba49778-f1ca-4112-cdda-84c1869cc402"
      },
      "execution_count": null,
      "outputs": [
        {
          "output_type": "stream",
          "name": "stdout",
          "text": [
            "3\n",
            "hi there\n",
            "\n",
            "how are you doing?\n",
            "\n",
            "Im doing okay\n",
            "\n"
          ]
        }
      ]
    },
    {
      "cell_type": "code",
      "source": [
        "#append text to a file and display the text.\n",
        "f=open(\"hi.txt\",\"a\")\n",
        "f.write(\"Hi again\")\n",
        "f.close()\n",
        "f=open(\"hi.txt\")\n",
        "b=f.readlines()\n",
        "for i in b:\n",
        "  print(i)\n",
        "f.close()"
      ],
      "metadata": {
        "colab": {
          "base_uri": "https://localhost:8080/"
        },
        "id": "mnPlmA9tkBye",
        "outputId": "d365d61b-4487-47a4-ac8d-0069e84b0bec"
      },
      "execution_count": null,
      "outputs": [
        {
          "output_type": "stream",
          "name": "stdout",
          "text": [
            "hi there\n",
            "\n",
            "how are you doing?\n",
            "\n",
            "Im doing okay\n",
            "\n",
            "thanks for asking\n",
            "\n",
            "ByeHi againHi again\n"
          ]
        }
      ]
    },
    {
      "cell_type": "code",
      "source": [
        "#x Read numbers from a file and write even and odd numbers to separate files.\n",
        "f=open(\"bhbh.txt\")\n",
        "f1=open(\"even.txt\",\"w\")\n",
        "f1.close()\n",
        "f2=open(\"odd.txt\",\"w\")\n",
        "f2.close()\n",
        "for i in f:\n",
        "  b=int(i)\n",
        "  if b%2==0:\n",
        "    f1=open(\"even.txt\",\"a\")\n",
        "    f1.write(str(b))\n",
        "    f1.close()\n",
        "  else:\n",
        "    f1=open(\"odd.txt\",\"a\")\n",
        "    f1.write(str(b))\n",
        "    f1.close()"
      ],
      "metadata": {
        "id": "uthbGTZjlRxN"
      },
      "execution_count": null,
      "outputs": []
    },
    {
      "cell_type": "code",
      "source": [
        "#Count characters, words and lines in a text file.\n",
        "f=open(\"hi.txt\")\n",
        "b=0\n",
        "a=[]\n",
        "c,w,l=0,0,0\n",
        "for i in f:\n",
        "  l+=1\n",
        "  a.append(i)\n",
        "for i in a:\n",
        "  for j in i:\n",
        "    if j!=' ' and j!='\\n':\n",
        "      c+=1\n",
        "    else:\n",
        "      w+=1\n",
        "print(\"characters:\",c,\"words:\",w+1,\"lines:\",l)\n",
        "f.close()\n"
      ],
      "metadata": {
        "colab": {
          "base_uri": "https://localhost:8080/"
        },
        "id": "8qzgGu6umcoT",
        "outputId": "39b45d96-6211-4b72-a550-49f05d618329"
      },
      "execution_count": null,
      "outputs": [
        {
          "output_type": "stream",
          "name": "stdout",
          "text": [
            "characters: 72 words: 16 lines: 5\n"
          ]
        }
      ]
    },
    {
      "cell_type": "code",
      "source": [
        "#To write a list to a file.\n",
        "f=open(\"hi.txt\",\"a\")\n",
        "b=[\"okay\",\"done\",\"bruh\"]\n",
        "for i in b:\n",
        "  f.write(i+'\\n')\n",
        "f.close()\n",
        "f=open(\"hi.txt\")\n",
        "for i in f:\n",
        "  print(i)\n",
        "f.close()"
      ],
      "metadata": {
        "colab": {
          "base_uri": "https://localhost:8080/"
        },
        "id": "lCPBAIdHoX_F",
        "outputId": "32b66d48-04ed-4b52-c7c3-7340c0338ea4"
      },
      "execution_count": null,
      "outputs": [
        {
          "output_type": "stream",
          "name": "stdout",
          "text": [
            "hi there\n",
            "\n",
            "how are you doing?\n",
            "\n",
            "Im doing okay\n",
            "\n",
            "thanks for asking\n",
            "\n",
            "ByeHi againHi againHiokay\n",
            "\n",
            "done\n",
            "\n",
            "bruh\n",
            "\n"
          ]
        }
      ]
    },
    {
      "cell_type": "code",
      "source": [
        "#Given a CSV file or excel file to read it into a dataframe and display it.\n",
        "import pandas as pd\n",
        "a=pd.read_csv(\"case.csv\")\n",
        "print(a.to_string())"
      ],
      "metadata": {
        "colab": {
          "base_uri": "https://localhost:8080/"
        },
        "id": "65a4cdKhpERD",
        "outputId": "fb5cfb25-b8fd-4cf6-9e81-45d88f3be3f8"
      },
      "execution_count": null,
      "outputs": [
        {
          "output_type": "stream",
          "name": "stdout",
          "text": [
            "    E-ID   E-NAME  SALARY          DESGINA         DOJ          MOBN        LOC  Unnamed: 7  Unnamed: 8  Unnamed: 9  Unnamed: 10  Unnamed: 11  Unnamed: 12  Unnamed: 13 Unnamed: 14\n",
            "0   1001    YASIR   40000          MANAGER  10/10/2002  9.945678e+09  HYDERABAD         NaN         NaN         NaN          NaN          NaN          NaN          NaN         NaN\n",
            "1   1002   FAROOQ   42000               HR  18/05/2003  8.859746e+09   WARANGAL         NaN         NaN         NaN          NaN          NaN          NaN          NaN         NaN\n",
            "2   1003   PRAMOD   10000             PEON  31/05/2004  9.874456e+09      VIZAG         NaN         NaN         NaN          NaN          NaN          NaN          NaN         NaN\n",
            "3   1004    KHAN    24000         ASSITANT  18/06/2001  8.945671e+09  BENGULURU         NaN         NaN         NaN          NaN          NaN          NaN          NaN         NaN\n",
            "4   1005    VIVEK   56000      JR.DEVELOER    1/2/2000  8.945612e+09    CHENNAI         NaN         NaN         NaN          NaN          NaN          NaN          NaN         NaN\n",
            "5   1006  ADITHYA   85000       IT MANAGER    5/5/2005  7.894563e+09      DELHI         NaN         NaN         NaN          NaN          NaN          NaN          NaN         NaN\n",
            "6   1007   MOHITH   62000               HR  21/10/2008  7.984945e+09    LUCKNOW         NaN         NaN         NaN          NaN          NaN          NaN          NaN         NaN\n",
            "7   1008     UDAY   78000        DEVELOPER  14/09/2006  7.672751e+09     JAIPUR         NaN         NaN         NaN          NaN          NaN          NaN          NaN         NaN\n",
            "8   1009  KRISHNA   54000            CHIEF  25/03/2004  7.360558e+09  HYDERABAD         NaN         NaN         NaN          NaN          NaN          NaN          NaN         NaN\n",
            "9   1010    NITYA   33000      JR.DEVELOER    9/7/2007  7.048365e+09   WARANGAL         NaN         NaN         NaN          NaN          NaN          NaN          NaN         NaN\n",
            "10  1011     JACK   69000          MANAGER  22/08/2005  6.736172e+09      VIZAG         NaN         NaN         NaN          NaN          NaN          NaN          NaN         NaN\n",
            "11  1012     JOHN   96000  PROJECT MANAGER    7/8/2009  6.423978e+09  BENGULURU         NaN         NaN         NaN          NaN          NaN          NaN          NaN         NaN\n",
            "12  1013     PAUL   48000          MANAGER    3/3/2001  6.111785e+09    CHENNAI         NaN         NaN         NaN          NaN          NaN          NaN          NaN           S\n",
            "13  1014   RAYUDU   34000            CHIEF    26/01/11           NaN      DELHI         NaN         NaN         NaN          NaN          NaN          NaN          NaN         NaN\n",
            "14  1015   KOHILI   35000      JR.DEVELOER   11/1/2005  6.301570e+09    LUCKNOW         NaN         NaN         NaN          NaN          NaN          NaN          NaN         NaN\n",
            "15  1016   PRABHU   25000          MANAGER   9/11/2003  8.908123e+09     JAIPUR         NaN         NaN         NaN          NaN          NaN          NaN          NaN         NaN\n",
            "16  1017   MURTHY   88000               HR    7/9/2009           NaN  HYDERABAD         NaN         NaN         NaN          NaN          NaN          NaN          NaN         NaN\n",
            "17  1018    PABLO   20000        ARCHIETCH    4/5/2006           NaN   WARANGAL         NaN         NaN         NaN          NaN          NaN          NaN          NaN         NaN\n",
            "18  1019   REBACK   25000            CHIEF    6/7/2005           NaN      VIZAG         NaN         NaN         NaN          NaN          NaN          NaN          NaN         NaN\n",
            "19  1020    QUICA   18000      JR.DEVELOER  12/12/2012  9.978524e+09  BENGULURU         NaN         NaN         NaN          NaN          NaN          NaN          NaN         NaN\n"
          ]
        }
      ]
    },
    {
      "cell_type": "code",
      "source": [
        "#Given a dataframe, select rows based on a condition.\n",
        "import pandas as pd\n",
        "a=pd.read_csv(\"case.csv\")\n",
        "f=pd.DataFrame(a)\n",
        "k=f[f['E-ID']>1007]\n",
        "print(k)"
      ],
      "metadata": {
        "colab": {
          "base_uri": "https://localhost:8080/"
        },
        "id": "Gm3i7NyAqWE0",
        "outputId": "f9239b16-f51b-449c-f9c1-5f9a1e51cb69"
      },
      "execution_count": null,
      "outputs": [
        {
          "output_type": "stream",
          "name": "stdout",
          "text": [
            "    E-ID   E-NAME  SALARY          DESGINA         DOJ          MOBN  \\\n",
            "7   1008     UDAY   78000        DEVELOPER  14/09/2006  7.672751e+09   \n",
            "8   1009  KRISHNA   54000            CHIEF  25/03/2004  7.360558e+09   \n",
            "9   1010    NITYA   33000      JR.DEVELOER    9/7/2007  7.048365e+09   \n",
            "10  1011     JACK   69000          MANAGER  22/08/2005  6.736172e+09   \n",
            "11  1012     JOHN   96000  PROJECT MANAGER    7/8/2009  6.423978e+09   \n",
            "12  1013     PAUL   48000          MANAGER    3/3/2001  6.111785e+09   \n",
            "13  1014   RAYUDU   34000            CHIEF    26/01/11           NaN   \n",
            "14  1015   KOHILI   35000      JR.DEVELOER   11/1/2005  6.301570e+09   \n",
            "15  1016   PRABHU   25000          MANAGER   9/11/2003  8.908123e+09   \n",
            "16  1017   MURTHY   88000               HR    7/9/2009           NaN   \n",
            "17  1018    PABLO   20000        ARCHIETCH    4/5/2006           NaN   \n",
            "18  1019   REBACK   25000            CHIEF    6/7/2005           NaN   \n",
            "19  1020    QUICA   18000      JR.DEVELOER  12/12/2012  9.978524e+09   \n",
            "\n",
            "          LOC  Unnamed: 7  Unnamed: 8  Unnamed: 9  Unnamed: 10  Unnamed: 11  \\\n",
            "7      JAIPUR         NaN         NaN         NaN          NaN          NaN   \n",
            "8   HYDERABAD         NaN         NaN         NaN          NaN          NaN   \n",
            "9    WARANGAL         NaN         NaN         NaN          NaN          NaN   \n",
            "10      VIZAG         NaN         NaN         NaN          NaN          NaN   \n",
            "11  BENGULURU         NaN         NaN         NaN          NaN          NaN   \n",
            "12    CHENNAI         NaN         NaN         NaN          NaN          NaN   \n",
            "13      DELHI         NaN         NaN         NaN          NaN          NaN   \n",
            "14    LUCKNOW         NaN         NaN         NaN          NaN          NaN   \n",
            "15     JAIPUR         NaN         NaN         NaN          NaN          NaN   \n",
            "16  HYDERABAD         NaN         NaN         NaN          NaN          NaN   \n",
            "17   WARANGAL         NaN         NaN         NaN          NaN          NaN   \n",
            "18      VIZAG         NaN         NaN         NaN          NaN          NaN   \n",
            "19  BENGULURU         NaN         NaN         NaN          NaN          NaN   \n",
            "\n",
            "    Unnamed: 12  Unnamed: 13 Unnamed: 14  \n",
            "7           NaN          NaN         NaN  \n",
            "8           NaN          NaN         NaN  \n",
            "9           NaN          NaN         NaN  \n",
            "10          NaN          NaN         NaN  \n",
            "11          NaN          NaN         NaN  \n",
            "12          NaN          NaN           S  \n",
            "13          NaN          NaN         NaN  \n",
            "14          NaN          NaN         NaN  \n",
            "15          NaN          NaN         NaN  \n",
            "16          NaN          NaN         NaN  \n",
            "17          NaN          NaN         NaN  \n",
            "18          NaN          NaN         NaN  \n",
            "19          NaN          NaN         NaN  \n"
          ]
        }
      ]
    },
    {
      "cell_type": "code",
      "source": [
        "#Given is a dataframe showing the name, occupation, salary of people. Find the average salary per occupation\n",
        "from pandas import *\n",
        "a={\n",
        "  \"name\":['Satya','Suraj','Subodh','Surya','Dhruv'],\n",
        "   \"occupation\":[\"player\",\"WD\",\"WD\",\"player\",\"WD\"],\n",
        "   \"salary\":[10000,11000,12000,13000,14000]\n",
        "}\n",
        "b=DataFrame(a)\n",
        "c=[]\n",
        "for i in b[\"occupation\"]:\n",
        "  if i not in c:\n",
        "    k=[]\n",
        "    c.append(i)\n",
        "    d=0\n",
        "    for j in b[\"occupation\"]:\n",
        "      \n",
        "      if j==i:\n",
        "        k.append(int(b[\"salary\"][d]))\n",
        "      d+=1\n",
        "    print(i,sum(k)/len(k))\n",
        "\n",
        " "
      ],
      "metadata": {
        "colab": {
          "base_uri": "https://localhost:8080/"
        },
        "id": "8Bi-yTTqsh6u",
        "outputId": "4b7300ac-c97e-48cc-b2ff-8b19853845e6"
      },
      "execution_count": null,
      "outputs": [
        {
          "output_type": "stream",
          "name": "stdout",
          "text": [
            "player 11500.0\n",
            "WD 12333.333333333334\n"
          ]
        }
      ]
    },
    {
      "cell_type": "code",
      "source": [
        "#Reading Columns\n",
        "df = pd.read_csv(\"case.csv\")\n",
        "colfil = df.loc[2:5,['e-ID','Salary']]\n",
        "print(colfil)"
      ],
      "metadata": {
        "id": "ytw9B_5yxFHc"
      },
      "execution_count": null,
      "outputs": []
    },
    {
      "cell_type": "code",
      "source": [
        "#Object to JSON\n",
        "jsonArray = []\n",
        "csvfil = open(\"case.csv\")\n",
        "csvreader = csv.DictReader(csvfil)\n",
        "for row in csvreader:\n",
        " jsonArray.append(row)\n",
        "jsonfil = open(\"case.csv\")\n",
        "jsonString = json.dumps(jsonArray, indent=4)\n",
        "jsonfil.write(jsonString)\n",
        "csvfil.close()\n",
        "jsonfil.close()"
      ],
      "metadata": {
        "id": "LHFPGjMN83Od"
      },
      "execution_count": null,
      "outputs": []
    }
  ]
}