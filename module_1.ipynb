{
  "nbformat": 4,
  "nbformat_minor": 0,
  "metadata": {
    "colab": {
      "name": "module 1",
      "provenance": [],
      "authorship_tag": "ABX9TyM9m9Xy4rx4nCqGOJUnizDf",
      "include_colab_link": true
    },
    "kernelspec": {
      "name": "python3",
      "display_name": "Python 3"
    },
    "language_info": {
      "name": "python"
    }
  },
  "cells": [
    {
      "cell_type": "markdown",
      "metadata": {
        "id": "view-in-github",
        "colab_type": "text"
      },
      "source": [
        "<a href=\"https://colab.research.google.com/github/Satya-teja/Python/blob/main/module_1.ipynb\" target=\"_parent\"><img src=\"https://colab.research.google.com/assets/colab-badge.svg\" alt=\"Open In Colab\"/></a>"
      ]
    },
    {
      "cell_type": "code",
      "execution_count": 3,
      "metadata": {
        "colab": {
          "base_uri": "https://localhost:8080/"
        },
        "id": "U7msd1LdbMxS",
        "outputId": "6804e0bf-58f1-4943-9e45-0e1670952d43"
      },
      "outputs": [
        {
          "output_type": "stream",
          "name": "stdout",
          "text": [
            "enter a value6\n",
            "6\n"
          ]
        }
      ],
      "source": [
        "#Accept input from user and store it in variable and print the value.\n",
        "a=int(input(\"enter a value\"))\n",
        "print(a)"
      ]
    },
    {
      "cell_type": "code",
      "source": [
        "#Use of print statements and use of (.format )for printing different data types.\n",
        "print(\"String {} int {} float {}\".format(\"Satya\",12,12.36))\n",
        "\n"
      ],
      "metadata": {
        "colab": {
          "base_uri": "https://localhost:8080/"
        },
        "id": "IbKKvR1ueOCp",
        "outputId": "f310e304-5805-4877-bfaf-77551fd80943"
      },
      "execution_count": 4,
      "outputs": [
        {
          "output_type": "stream",
          "name": "stdout",
          "text": [
            "String Satya int 12 float 12.36\n"
          ]
        }
      ]
    },
    {
      "cell_type": "code",
      "source": [
        "#Take 2 numbers as user input and add, multiply, divide, subtract, remainder and print\n",
        "#the output (Same operations on floating point input as well)\n",
        "a=int(input(\"enter value 1:\"))\n",
        "b=int(input(\"enter value 2:\"))\n",
        "print(a+b,a-b,a*b,a/b,a%b)\n",
        "a=float(input(\"Enter a float number 1:\"))\n",
        "b=float(input(\"Enter a float number 2:\"))\n",
        "print(a+b,a-b,a*b,a/b,a%b)"
      ],
      "metadata": {
        "colab": {
          "base_uri": "https://localhost:8080/"
        },
        "id": "kD0BqezdgWox",
        "outputId": "9b09afce-e965-45d7-a986-174b4092bab4"
      },
      "execution_count": 5,
      "outputs": [
        {
          "output_type": "stream",
          "name": "stdout",
          "text": [
            "enter value 1:12\n",
            "enter value 2:23\n",
            "35 -11 276 0.5217391304347826 12\n",
            "Enter a float number 1:12\n",
            "Enter a float number 2:23.32\n",
            "35.32 -11.32 279.84000000000003 0.5145797598627787 12.0\n"
          ]
        }
      ]
    },
    {
      "cell_type": "code",
      "source": [
        "#Conversion of one unit to another (such as hours to minutes, miles to km and etc)\n",
        "a=float(input(\"enter number of miles:\"))\n",
        "print(\"Kilometers:\",a*1.60934)"
      ],
      "metadata": {
        "colab": {
          "base_uri": "https://localhost:8080/"
        },
        "id": "FUGDt6-2g9tA",
        "outputId": "1825e8a0-e985-43de-83b2-6e264e68f552"
      },
      "execution_count": 6,
      "outputs": [
        {
          "output_type": "stream",
          "name": "stdout",
          "text": [
            "enter number of miles:234.8\n",
            "Kilometers: 377.873032\n"
          ]
        }
      ]
    },
    {
      "cell_type": "code",
      "source": [
        "#Usage of mathematical functions in python like math.ceil, floor, fabs, fmod, trunc, pow, sqrt etc.\n",
        "import math\n",
        "b=2.32\n",
        "print(\"original number:\",b)\n",
        "print(math.ceil(b))\n",
        "print(math.floor(b))\n",
        "print(math.fabs(b))\n",
        "print(math.fmod(b,2))\n",
        "print(math.trunc(b))\n"
      ],
      "metadata": {
        "colab": {
          "base_uri": "https://localhost:8080/"
        },
        "id": "dRSBrBXvhStr",
        "outputId": "104ca1e1-f98b-450b-b256-8b2ff0ff88e5"
      },
      "execution_count": 7,
      "outputs": [
        {
          "output_type": "stream",
          "name": "stdout",
          "text": [
            "original number: 2.32\n",
            "3\n",
            "2\n",
            "2.32\n",
            "0.31999999999999984\n",
            "2\n"
          ]
        }
      ]
    },
    {
      "cell_type": "code",
      "source": [
        "#Building a mathematical calculator that can perform operations according to user input. Use decision making statement.\n",
        "\n",
        "a=int(input(\"Enter a number\"))\n",
        "b=int(input(\"Enter a number\"))\n",
        "print(\"Press \\n1 for addition\\n2 for subtraction\\n3 for multiplication\\n4 for division\\n0 to exit\")\n",
        "while True:\n",
        "  c=int(input(\"Enter:\"))\n",
        "  if c==1:\n",
        "    print(a+b)\n",
        "  elif c==2:\n",
        "    print(a-b)\n",
        "  elif c==3:\n",
        "    print(a*b)\n",
        "  elif c==4:\n",
        "    print(a/b)\n",
        "  elif c==0:\n",
        "    break\n",
        "  else:\n",
        "    print(\"Invalid input\")"
      ],
      "metadata": {
        "colab": {
          "base_uri": "https://localhost:8080/"
        },
        "id": "WzFsfyNPiLyC",
        "outputId": "694bd9d2-c0d7-4b22-b6fa-7d91ebb15f33"
      },
      "execution_count": 8,
      "outputs": [
        {
          "name": "stdout",
          "output_type": "stream",
          "text": [
            "Enter a number70\n",
            "Enter a number4\n",
            "Press \n",
            "1 for addition\n",
            "2 for subtraction\n",
            "3 for multiplication\n",
            "4 for division\n",
            "0 to exit\n",
            "Enter:4\n",
            "17.5\n",
            "Enter:0\n"
          ]
        }
      ]
    },
    {
      "cell_type": "code",
      "source": [
        "#Accepting 5 different subject marks from user and displaying the grade of the student.\n",
        "a=0\n",
        "for i in range(5):\n",
        "  print(\"Enter subject {} marks\".format(i+1))\n",
        "  b=int(input(\"\"))\n",
        "  a+=b\n",
        "if 90<a<=100:\n",
        "  print(\"A\")\n",
        "elif 80<a<=90:\n",
        "  print(\"B\")\n",
        "elif 70<a<=80:\n",
        "  print(\"C\")\n",
        "elif 60<a<=70:\n",
        "  print(\"D\")\n",
        "elif 50<a<=960:\n",
        "  print(\"E\")\n",
        "else:\n",
        "  print(\"F\")"
      ],
      "metadata": {
        "colab": {
          "base_uri": "https://localhost:8080/"
        },
        "id": "s4BFnJY1jOkC",
        "outputId": "3a412885-2726-4ae1-b447-4070fd429522"
      },
      "execution_count": 10,
      "outputs": [
        {
          "output_type": "stream",
          "name": "stdout",
          "text": [
            "Enter subject 1 marks\n",
            "17\n",
            "Enter subject 2 marks\n",
            "20\n",
            "Enter subject 3 marks\n",
            "20\n",
            "Enter subject 4 marks\n",
            "15\n",
            "Enter subject 5 marks\n",
            "14\n",
            "B\n"
          ]
        }
      ]
    },
    {
      "cell_type": "code",
      "source": [
        "#Printing all even numbers, odd numbers, count of even numbers, count of odd numbers within a given range.\n",
        "# Compute the factorial of a given number. b) Compute GCD of two given numbers. c) Generate Fibonacci series up to N numbers\n",
        "a=int(input(\"Enter starting range:\"))\n",
        "b=int(input(\"Enter ending range:\"))\n",
        "even=[]\n",
        "odd=[]\n",
        "co=0\n",
        "ce=0\n",
        "for i in range(a,b+1):\n",
        "  if i%2==0:\n",
        "    even.append(i)\n",
        "    ce+=1\n",
        "  else:\n",
        "    odd.append(i)\n",
        "    co+=1\n",
        "print(even,odd)\n",
        "print(\"count of odd numbers is:\",co)\n",
        "print(\"count of even numbers is:\",ce)\n",
        "\n",
        "print(\"TO FIND FACTORIAL\")\n",
        "c=int(input(\"enter number to find factorial of:\"))\n",
        "d=1\n",
        "for i in range(1,c+1):\n",
        "  d=d*i\n",
        "print(\"factorial is:\",d)\n",
        "print(\"TO COMPUTE GCD\")\n",
        "c=int(input(\"Enter first number:\"))\n",
        "d=int(input(\"Enter second number:\"))\n",
        "e=[c,d]\n",
        "e.sort()\n",
        "for i in range(1,e[0]+1):\n",
        "  if(c%i==0 and d%i==0):\n",
        "    g=i\n",
        "print(\"GCD:\",g)\n",
        "c=int(input(\"Enter up to which number you want fibonacci sequence:\"))\n",
        "d=0\n",
        "e=1\n",
        "print(d,e,end=\" \")\n",
        "for i in range(c):\n",
        "  f=d+e\n",
        "  print(f,end=\" \")\n",
        "  d=e\n",
        "  e=f\n",
        "\n",
        "\n"
      ],
      "metadata": {
        "colab": {
          "base_uri": "https://localhost:8080/"
        },
        "id": "RcCp7lnQkLXx",
        "outputId": "69c2a534-d975-45fc-978f-59552b4bbfb1"
      },
      "execution_count": 13,
      "outputs": [
        {
          "output_type": "stream",
          "name": "stdout",
          "text": [
            "Enter starting range:3\n",
            "Enter ending range:12\n",
            "[4, 6, 8, 10, 12] [3, 5, 7, 9, 11]\n",
            "count of odd numbers is: 5\n",
            "count of even numbers is: 5\n",
            "TO FIND FACTORIAL\n",
            "enter number to find factorial of:69\n",
            "factorial is: 171122452428141311372468338881272839092270544893520369393648040923257279754140647424000000000000000\n",
            "TO COMPUTE GCD\n",
            "Enter first number:69\n",
            "Enter second number:4\n",
            "GCD: 1\n",
            "Enter up to which number you want fibonacci sequence:5\n",
            "0 1\n",
            "1 2 3 5 8 "
          ]
        }
      ]
    },
    {
      "cell_type": "code",
      "source": [
        "#PALINDROME\n",
        "a=input(\"Enter a string:\")\n",
        "a.lower()\n",
        "b=0\n",
        "c=int(len(a)/2)\n",
        "print(c)\n",
        "for i in range(c-1):\n",
        " # print(a[i],a[len(a)-1-i])\n",
        "  if a[i]!=a[len(a)-i-1]:\n",
        "    b=1\n",
        "if b==0:\n",
        "  print(\"palindrome\")\n",
        "else:\n",
        "  print(\"not palindrome\")"
      ],
      "metadata": {
        "colab": {
          "base_uri": "https://localhost:8080/"
        },
        "id": "gBMRJz91oDI6",
        "outputId": "d855a8ce-6e4e-4ec2-8313-3d2c2d93ee27"
      },
      "execution_count": 23,
      "outputs": [
        {
          "output_type": "stream",
          "name": "stdout",
          "text": [
            "Enter a string:racecare\n",
            "4\n",
            "r e\n",
            "a r\n",
            "c a\n",
            "not palindrome\n"
          ]
        }
      ]
    },
    {
      "cell_type": "code",
      "source": [
        "#STRONG NUMBER\n",
        "def fact(x):\n",
        "  b=1\n",
        "  for i in range(1,x+1):\n",
        "    b=b*i\n",
        "  return b\n",
        "a=input(\"Enter a number:\")\n",
        "c=0\n",
        "for j in range(len(a)):\n",
        "  c+=fact(int(a[j]))\n",
        "if c==int(a):\n",
        "  print(\"its a strong number\")\n",
        "else:\n",
        "  print(\"no\")"
      ],
      "metadata": {
        "colab": {
          "base_uri": "https://localhost:8080/"
        },
        "id": "qDepKhC7qJmj",
        "outputId": "f1799668-e970-49f0-a72e-abb6c87f86a5"
      },
      "execution_count": 24,
      "outputs": [
        {
          "output_type": "stream",
          "name": "stdout",
          "text": [
            "Enter a number:145\n",
            "its a strong number\n"
          ]
        }
      ]
    },
    {
      "cell_type": "code",
      "source": [
        "#perfect number\n",
        "a=input(\"Enter a number:\")\n",
        "b=0\n",
        "for i in range(1,int(a)):\n",
        "  if(int(a)%i==0):\n",
        "    b+=i\n",
        "if b==int(a):\n",
        "  print(\"Perfect number\")\n",
        "else:\n",
        "  print(\"no\")"
      ],
      "metadata": {
        "colab": {
          "base_uri": "https://localhost:8080/"
        },
        "id": "hy22Vv7crDPU",
        "outputId": "e5c4cb3f-b57e-4a97-ad54-a64d3b9f23dc"
      },
      "execution_count": 27,
      "outputs": [
        {
          "output_type": "stream",
          "name": "stdout",
          "text": [
            "Enter a number:28\n",
            "Perfect number\n"
          ]
        }
      ]
    },
    {
      "cell_type": "code",
      "source": [
        ""
      ],
      "metadata": {
        "id": "UShPY6ezrnNf"
      },
      "execution_count": null,
      "outputs": []
    }
  ]
}